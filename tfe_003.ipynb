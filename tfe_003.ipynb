{
  "nbformat": 4,
  "nbformat_minor": 0,
  "metadata": {
    "colab": {
      "name": "tfe_003.ipynb",
      "version": "0.3.2",
      "provenance": [],
      "collapsed_sections": [],
      "include_colab_link": true
    },
    "kernelspec": {
      "name": "python3",
      "display_name": "Python 3"
    },
    "accelerator": "GPU"
  },
  "cells": [
    {
      "cell_type": "markdown",
      "metadata": {
        "id": "view-in-github",
        "colab_type": "text"
      },
      "source": [
        "<a href=\"https://colab.research.google.com/github/rombaux/PyTorch-GAN/blob/master/tfe_003.ipynb\" target=\"_parent\"><img src=\"https://colab.research.google.com/assets/colab-badge.svg\" alt=\"Open In Colab\"/></a>"
      ]
    },
    {
      "cell_type": "markdown",
      "metadata": {
        "id": "g7xpBF1PrS_5",
        "colab_type": "text"
      },
      "source": [
        "# ***MONTAGE DU GDRIVE***"
      ]
    },
    {
      "cell_type": "code",
      "metadata": {
        "id": "jpyTsxWWEuUr",
        "colab_type": "code",
        "outputId": "ddb5c0d3-7b92-47c7-f7ed-167f96d009f3",
        "colab": {
          "base_uri": "https://localhost:8080/",
          "height": 129
        }
      },
      "source": [
        "from google.colab import drive\n",
        "drive.mount('/content/gdrive')"
      ],
      "execution_count": 2,
      "outputs": [
        {
          "output_type": "stream",
          "text": [
            "Go to this URL in a browser: https://accounts.google.com/o/oauth2/auth?client_id=947318989803-6bn6qk8qdgf4n4g3pfee6491hc0brc4i.apps.googleusercontent.com&redirect_uri=urn%3Aietf%3Awg%3Aoauth%3A2.0%3Aoob&scope=email%20https%3A%2F%2Fwww.googleapis.com%2Fauth%2Fdocs.test%20https%3A%2F%2Fwww.googleapis.com%2Fauth%2Fdrive%20https%3A%2F%2Fwww.googleapis.com%2Fauth%2Fdrive.photos.readonly%20https%3A%2F%2Fwww.googleapis.com%2Fauth%2Fpeopleapi.readonly&response_type=code\n",
            "\n",
            "Enter your authorization code:\n",
            "··········\n",
            "Mounted at /content/gdrive\n"
          ],
          "name": "stdout"
        }
      ]
    },
    {
      "cell_type": "markdown",
      "metadata": {
        "id": "keCmZcojrHWY",
        "colab_type": "text"
      },
      "source": [
        ""
      ]
    },
    {
      "cell_type": "markdown",
      "metadata": {
        "id": "hBdU-MSSrKk-",
        "colab_type": "text"
      },
      "source": [
        "# GIT DOWNLOAD"
      ]
    },
    {
      "cell_type": "code",
      "metadata": {
        "id": "HkvxnhrYEyqQ",
        "colab_type": "code",
        "outputId": "bb554d7c-4763-465b-99f7-c3756311b172",
        "colab": {
          "base_uri": "https://localhost:8080/",
          "height": 146
        }
      },
      "source": [
        "!git clone https://github.com/rombaux/PyTorch-GAN"
      ],
      "execution_count": 34,
      "outputs": [
        {
          "output_type": "stream",
          "text": [
            "Cloning into 'PyTorch-GAN'...\n",
            "remote: Enumerating objects: 157, done.\u001b[K\n",
            "remote: Counting objects:   0% (1/157)   \u001b[K\rremote: Counting objects:   1% (2/157)   \u001b[K\rremote: Counting objects:   2% (4/157)   \u001b[K\rremote: Counting objects:   3% (5/157)   \u001b[K\rremote: Counting objects:   4% (7/157)   \u001b[K\rremote: Counting objects:   5% (8/157)   \u001b[K\rremote: Counting objects:   6% (10/157)   \u001b[K\rremote: Counting objects:   7% (11/157)   \u001b[K\rremote: Counting objects:   8% (13/157)   \u001b[K\rremote: Counting objects:   9% (15/157)   \u001b[K\rremote: Counting objects:  10% (16/157)   \u001b[K\rremote: Counting objects:  11% (18/157)   \u001b[K\rremote: Counting objects:  12% (19/157)   \u001b[K\rremote: Counting objects:  13% (21/157)   \u001b[K\rremote: Counting objects:  14% (22/157)   \u001b[K\rremote: Counting objects:  15% (24/157)   \u001b[K\rremote: Counting objects:  16% (26/157)   \u001b[K\rremote: Counting objects:  17% (27/157)   \u001b[K\rremote: Counting objects:  18% (29/157)   \u001b[K\rremote: Counting objects:  19% (30/157)   \u001b[K\rremote: Counting objects:  20% (32/157)   \u001b[K\rremote: Counting objects:  21% (33/157)   \u001b[K\rremote: Counting objects:  22% (35/157)   \u001b[K\rremote: Counting objects:  23% (37/157)   \u001b[K\rremote: Counting objects:  24% (38/157)   \rremote: Counting objects:  25% (40/157)   \u001b[K\rremote: Counting objects:  26% (41/157)   \u001b[K\rremote: Counting objects:  27% (43/157)   \u001b[K\rremote: Counting objects:  28% (44/157)   \u001b[K\rremote: Counting objects:  29% (46/157)   \u001b[K\rremote: Counting objects:  30% (48/157)   \u001b[K\rremote: Counting objects:  31% (49/157)   \u001b[K\rremote: Counting objects:  32% (51/157)   \u001b[K\rremote: Counting objects:  33% (52/157)   \u001b[K\rremote: Counting objects:  34% (54/157)   \u001b[K\rremote: Counting objects:  35% (55/157)   \u001b[K\rremote: Counting objects:  36% (57/157)   \u001b[K\rremote: Counting objects:  37% (59/157)   \u001b[K\rremote: Counting objects:  38% (60/157)   \u001b[K\rremote: Counting objects:  39% (62/157)   \u001b[K\rremote: Counting objects:  40% (63/157)   \u001b[K\rremote: Counting objects:  41% (65/157)   \u001b[K\rremote: Counting objects:  42% (66/157)   \u001b[K\rremote: Counting objects:  43% (68/157)   \u001b[K\rremote: Counting objects:  44% (70/157)   \u001b[K\rremote: Counting objects:  45% (71/157)   \u001b[K\rremote: Counting objects:  46% (73/157)   \u001b[K\rremote: Counting objects:  47% (74/157)   \u001b[K\rremote: Counting objects:  48% (76/157)   \u001b[K\rremote: Counting objects:  49% (77/157)   \u001b[K\rremote: Counting objects:  50% (79/157)   \u001b[K\rremote: Counting objects:  51% (81/157)   \u001b[K\rremote: Counting objects:  52% (82/157)   \u001b[K\rremote: Counting objects:  53% (84/157)   \u001b[K\rremote: Counting objects:  54% (85/157)   \u001b[K\rremote: Counting objects:  55% (87/157)   \u001b[K\rremote: Counting objects:  56% (88/157)   \u001b[K\rremote: Counting objects:  57% (90/157)   \u001b[K\rremote: Counting objects:  58% (92/157)   \u001b[K\rremote: Counting objects:  59% (93/157)   \u001b[K\rremote: Counting objects:  60% (95/157)   \u001b[K\rremote: Counting objects:  61% (96/157)   \u001b[K\rremote: Counting objects:  62% (98/157)   \u001b[K\rremote: Counting objects:  63% (99/157)   \u001b[K\rremote: Counting objects:  64% (101/157)   \u001b[K\rremote: Counting objects:  65% (103/157)   \u001b[K\rremote: Counting objects:  66% (104/157)   \u001b[K\rremote: Counting objects:  67% (106/157)   \u001b[K\rremote: Counting objects:  68% (107/157)   \u001b[K\rremote: Counting objects:  69% (109/157)   \u001b[K\rremote: Counting objects:  70% (110/157)   \u001b[K\rremote: Counting objects:  71% (112/157)   \u001b[K\rremote: Counting objects:  72% (114/157)   \u001b[K\rremote: Counting objects:  73% (115/157)   \u001b[K\rremote: Counting objects:  74% (117/157)   \u001b[K\rremote: Counting objects:  75% (118/157)   \u001b[K\rremote: Counting objects:  76% (120/157)   \u001b[K\rremote: Counting objects:  77% (121/157)   \u001b[K\rremote: Counting objects:  78% (123/157)   \u001b[K\rremote: Counting objects:  79% (125/157)   \u001b[K\rremote: Counting objects:  80% (126/157)   \u001b[K\rremote: Counting objects:  81% (128/157)   \u001b[K\rremote: Counting objects:  82% (129/157)   \u001b[K\rremote: Counting objects:  83% (131/157)   \u001b[K\rremote: Counting objects:  84% (132/157)   \u001b[K\rremote: Counting objects:  85% (134/157)   \u001b[K\rremote: Counting objects:  86% (136/157)   \u001b[K\rremote: Counting objects:  87% (137/157)   \u001b[K\rremote: Counting objects:  88% (139/157)   \u001b[K\rremote: Counting objects:  89% (140/157)   \u001b[K\rremote: Counting objects:  90% (142/157)   \u001b[K\rremote: Counting objects:  91% (143/157)   \u001b[K\rremote: Counting objects:  92% (145/157)   \u001b[K\rremote: Counting objects:  93% (147/157)   \u001b[K\rremote: Counting objects:  94% (148/157)   \u001b[K\rremote: Counting objects:  95% (150/157)   \u001b[K\rremote: Counting objects:  96% (151/157)   \u001b[K\rremote: Counting objects:  97% (153/157)   \u001b[K\rremote: Counting objects:  98% (154/157)   \u001b[K\rremote: Counting objects:  99% (156/157)   \u001b[K\rremote: Counting objects: 100% (157/157)   \u001b[K\rremote: Counting objects: 100% (157/157), done.\u001b[K\n",
            "remote: Compressing objects: 100% (95/95), done.\u001b[K\n",
            "remote: Total 2942 (delta 118), reused 100 (delta 62), pack-reused 2785\u001b[K\n",
            "Receiving objects: 100% (2942/2942), 61.05 MiB | 31.10 MiB/s, done.\n",
            "Resolving deltas: 100% (2050/2050), done.\n"
          ],
          "name": "stdout"
        }
      ]
    },
    {
      "cell_type": "markdown",
      "metadata": {
        "id": "c4M1qDtduHio",
        "colab_type": "text"
      },
      "source": [
        "# INSTALLATION des Dépendances"
      ]
    },
    {
      "cell_type": "code",
      "metadata": {
        "id": "p7EXl4-cEyuP",
        "colab_type": "code",
        "outputId": "a2955cc0-b0b0-4739-ad79-1a169d423912",
        "colab": {
          "base_uri": "https://localhost:8080/",
          "height": 35
        }
      },
      "source": [
        "cd /content/PyTorch-GAN"
      ],
      "execution_count": 4,
      "outputs": [
        {
          "output_type": "stream",
          "text": [
            "/content/PyTorch-GAN\n"
          ],
          "name": "stdout"
        }
      ]
    },
    {
      "cell_type": "code",
      "metadata": {
        "id": "Ci9PjYSHEyxw",
        "colab_type": "code",
        "outputId": "c4175a64-7f0e-485f-d03c-6031620bc9b1",
        "colab": {
          "base_uri": "https://localhost:8080/",
          "height": 368
        }
      },
      "source": [
        "!sudo pip3 install -r requirements.txt"
      ],
      "execution_count": 5,
      "outputs": [
        {
          "output_type": "stream",
          "text": [
            "Requirement already satisfied: torch>=0.4.0 in /usr/local/lib/python3.6/dist-packages (from -r requirements.txt (line 1)) (1.1.0)\n",
            "Requirement already satisfied: torchvision in /usr/local/lib/python3.6/dist-packages (from -r requirements.txt (line 2)) (0.3.0)\n",
            "Requirement already satisfied: matplotlib in /usr/local/lib/python3.6/dist-packages (from -r requirements.txt (line 3)) (3.0.3)\n",
            "Requirement already satisfied: numpy in /usr/local/lib/python3.6/dist-packages (from -r requirements.txt (line 4)) (1.16.4)\n",
            "Requirement already satisfied: scipy in /usr/local/lib/python3.6/dist-packages (from -r requirements.txt (line 5)) (1.3.0)\n",
            "Requirement already satisfied: pillow in /usr/local/lib/python3.6/dist-packages (from -r requirements.txt (line 6)) (4.3.0)\n",
            "Requirement already satisfied: urllib3 in /usr/local/lib/python3.6/dist-packages (from -r requirements.txt (line 7)) (1.24.3)\n",
            "Requirement already satisfied: scikit-image in /usr/local/lib/python3.6/dist-packages (from -r requirements.txt (line 8)) (0.15.0)\n",
            "Requirement already satisfied: six in /usr/local/lib/python3.6/dist-packages (from torchvision->-r requirements.txt (line 2)) (1.12.0)\n",
            "Requirement already satisfied: kiwisolver>=1.0.1 in /usr/local/lib/python3.6/dist-packages (from matplotlib->-r requirements.txt (line 3)) (1.1.0)\n",
            "Requirement already satisfied: cycler>=0.10 in /usr/local/lib/python3.6/dist-packages (from matplotlib->-r requirements.txt (line 3)) (0.10.0)\n",
            "Requirement already satisfied: pyparsing!=2.0.4,!=2.1.2,!=2.1.6,>=2.0.1 in /usr/local/lib/python3.6/dist-packages (from matplotlib->-r requirements.txt (line 3)) (2.4.2)\n",
            "Requirement already satisfied: python-dateutil>=2.1 in /usr/local/lib/python3.6/dist-packages (from matplotlib->-r requirements.txt (line 3)) (2.5.3)\n",
            "Requirement already satisfied: olefile in /usr/local/lib/python3.6/dist-packages (from pillow->-r requirements.txt (line 6)) (0.46)\n",
            "Requirement already satisfied: PyWavelets>=0.4.0 in /usr/local/lib/python3.6/dist-packages (from scikit-image->-r requirements.txt (line 8)) (1.0.3)\n",
            "Requirement already satisfied: networkx>=2.0 in /usr/local/lib/python3.6/dist-packages (from scikit-image->-r requirements.txt (line 8)) (2.3)\n",
            "Requirement already satisfied: imageio>=2.0.1 in /usr/local/lib/python3.6/dist-packages (from scikit-image->-r requirements.txt (line 8)) (2.4.1)\n",
            "Requirement already satisfied: setuptools in /usr/local/lib/python3.6/dist-packages (from kiwisolver>=1.0.1->matplotlib->-r requirements.txt (line 3)) (41.0.1)\n",
            "Requirement already satisfied: decorator>=4.3.0 in /usr/local/lib/python3.6/dist-packages (from networkx>=2.0->scikit-image->-r requirements.txt (line 8)) (4.4.0)\n"
          ],
          "name": "stdout"
        }
      ]
    },
    {
      "cell_type": "markdown",
      "metadata": {
        "id": "xkHYcyz5qpx1",
        "colab_type": "text"
      },
      "source": [
        "# *GIT MISE à JOUR*"
      ]
    },
    {
      "cell_type": "code",
      "metadata": {
        "id": "HyDADNO0XFX5",
        "colab_type": "code",
        "outputId": "188906a1-520a-41cd-fccf-83031dd212db",
        "colab": {
          "base_uri": "https://localhost:8080/",
          "height": 239
        }
      },
      "source": [
        "!git pull"
      ],
      "execution_count": 38,
      "outputs": [
        {
          "output_type": "stream",
          "text": [
            "remote: Enumerating objects: 11, done.\u001b[K\n",
            "remote: Counting objects:   9% (1/11)   \u001b[K\rremote: Counting objects:  18% (2/11)   \u001b[K\rremote: Counting objects:  27% (3/11)   \u001b[K\rremote: Counting objects:  36% (4/11)   \u001b[K\rremote: Counting objects:  45% (5/11)   \u001b[K\rremote: Counting objects:  54% (6/11)   \u001b[K\rremote: Counting objects:  63% (7/11)   \u001b[K\rremote: Counting objects:  72% (8/11)   \u001b[K\rremote: Counting objects:  81% (9/11)   \u001b[K\rremote: Counting objects:  90% (10/11)   \u001b[K\rremote: Counting objects: 100% (11/11)   \u001b[K\rremote: Counting objects: 100% (11/11), done.\u001b[K\n",
            "remote: Compressing objects: 100% (1/1)   \u001b[K\rremote: Compressing objects: 100% (1/1), done.\u001b[K\n",
            "remote: Total 6 (delta 5), reused 6 (delta 5), pack-reused 0\u001b[K\n",
            "Unpacking objects:  16% (1/6)   \rUnpacking objects:  33% (2/6)   \rUnpacking objects:  50% (3/6)   \rUnpacking objects:  66% (4/6)   \rUnpacking objects:  83% (5/6)   \rUnpacking objects: 100% (6/6)   \rUnpacking objects: 100% (6/6), done.\n",
            "From https://github.com/rombaux/PyTorch-GAN\n",
            "   936ead8..ded22c0  master     -> origin/master\n",
            "Updating 936ead8..ded22c0\n",
            "Fast-forward\n",
            " implementations/cgan/cgan_genimg.py | 1 \u001b[31m-\u001b[m\n",
            " implementations/cgan/printloss.py   | 4 \u001b[32m++\u001b[m\u001b[31m--\u001b[m\n",
            " 2 files changed, 2 insertions(+), 3 deletions(-)\n"
          ],
          "name": "stdout"
        }
      ]
    },
    {
      "cell_type": "code",
      "metadata": {
        "id": "o41FSpthXnyO",
        "colab_type": "code",
        "colab": {}
      },
      "source": [
        "!git log -n 3"
      ],
      "execution_count": 0,
      "outputs": []
    },
    {
      "cell_type": "markdown",
      "metadata": {
        "id": "zWL1RmvYqJnG",
        "colab_type": "text"
      },
      "source": [
        "# GENERATEUR"
      ]
    },
    {
      "cell_type": "code",
      "metadata": {
        "id": "8Yy4oOJ7Ey1R",
        "colab_type": "code",
        "outputId": "8df6f904-24f5-4071-82d4-5a2dc00d8244",
        "colab": {
          "base_uri": "https://localhost:8080/",
          "height": 35
        }
      },
      "source": [
        "cd /content/PyTorch-GAN/implementations/cgan/"
      ],
      "execution_count": 36,
      "outputs": [
        {
          "output_type": "stream",
          "text": [
            "/content/PyTorch-GAN/implementations/cgan\n"
          ],
          "name": "stdout"
        }
      ]
    },
    {
      "cell_type": "markdown",
      "metadata": {
        "id": "YGSOrQB_kd2l",
        "colab_type": "text"
      },
      "source": [
        "## ***Procédure d'apprentissage du CGAN***"
      ]
    },
    {
      "cell_type": "code",
      "metadata": {
        "id": "Cjovvh2cZZEB",
        "colab_type": "code",
        "outputId": "f2f37ca1-1b3e-483d-ae91-3e19800eb75b",
        "colab": {
          "base_uri": "https://localhost:8080/",
          "height": 1000
        }
      },
      "source": [
        "%run choice_dataset.py\n",
        "!python3 cgan_genimg.py --n_epochs $optn_epochs --gennumber $optgennumber --genidlabel $optgenidlabel --sample_interval $optsample_interval --dataset $optdataset --channels $optchannel --n_classes $optn_classes --img_size $optimg_size --batch_size $optbatch_size\n",
        "%run printloss.py"
      ],
      "execution_count": 0,
      "outputs": [
        {
          "output_type": "stream",
          "text": [
            "-------------------------------------------------\n",
            "BIENVENUE SUR LA PAGE DES RESEAUX CONDITIONAL GAN\n",
            "-------------------------------------------------\n",
            "\r\n",
            "\n",
            "-------------------------------------------------\n",
            "---           MENU DE CONFIGURATION           ---\n",
            "-------------------------------------------------\n",
            "\r\n",
            "\n",
            "[0] dataset 0 - MNIST\n",
            "[1] dataset 1 - CIFAR 10\n",
            "[2] dataset 2 - CIFAR 100\n",
            "[3] dataset 3 - STL 10\n",
            "[4] dataset 4 - Fashion MNIST\n",
            "[5] dataset 5 - ImageNet\n",
            "[6] dataset 6 - EMNIST\n",
            "Choisissez le dataset à tester [0-6]: 3\n",
            "Dataset dataset 3 - STL 10 sélectionné\n",
            "\n",
            "\n",
            "[0] 4\n",
            "[1] 8\n",
            "[2] 16\n",
            "[3] 32\n",
            "[4] 64\n",
            "[5] 128\n",
            "[6] 256\n",
            "[7] 512\n",
            "[8] 1024\n",
            "[9] 2048\n",
            "Choisissez le batch size à tester [0-9]: 2\n",
            "Batch de 16 sélectionné\n",
            "\n",
            "\n",
            "[0] Airplane\n",
            "[1] Bird\n",
            "[2] Auto\n",
            "[3] Cat\n",
            "[4] Deer\n",
            "[5] Dog\n",
            "[6] Horse\n",
            "[7] Monkey\n",
            "[8] Ship\n",
            "[9] Truck\n",
            "Choisissez le label à générer [0-9]: 6\n",
            "Le symbole \"Horse\" a été sélectionné\n",
            "\n",
            "\n",
            "Entrer le nombre à générer : 9876543210\n",
            "Le nombre \"9876543210\" va être généré\n",
            "\n",
            "\n",
            "Entrer l'interval de génération d'image : 320\n",
            "320 va petre généré\n",
            "\n",
            "\n",
            "Choisissez le nombre d'EPoch : 200\n",
            "200 EPOCH sélectionnée\n",
            "\n",
            "\n",
            "Namespace(b1=0.5, b2=0.999, batch_size=16, channels=3, dataset=3, genidlabel=6, gennumber=9876543210, img_size=96, latent_dim=100, lr=0.0002, n_classes=10, n_cpu=8, n_epochs=200, sample_interval=320)\n",
            "torch cuda is available => True\n",
            "Path \"generateur complet\" is created as /content/gdrive/My Drive/TFE/dataset/3/2019-08-06_15-19/gen09\n",
            "Path \"generateur label choisi\" is created as /content/gdrive/My Drive/TFE/dataset/3/2019-08-06_15-19/6\n",
            "Path \"generateur du nombre\"is created as /content/gdrive/My Drive/TFE/dataset/3/2019-08-06_15-19/9876543210\n",
            "Path of model is created as /content/gdrive/My Drive/TFE/dataset/3/2019-08-06_15-19/model\n",
            "Path of model is created as /content/gdrive/My Drive/TFE/dataset/3/2019-08-06_15-19/loss\n",
            "Dataset n: 3 selected and 10 classes used\n",
            "Fichier de configuration créé\n",
            "Model's state_dict:\n",
            "0.weight  \t  torch.Size([128, 110])\n",
            "0.bias  \t  torch.Size([128])\n",
            "2.weight  \t  torch.Size([256, 128])\n",
            "2.bias  \t  torch.Size([256])\n",
            "3.weight  \t  torch.Size([256])\n",
            "3.bias  \t  torch.Size([256])\n",
            "3.running_mean  \t  torch.Size([256])\n",
            "3.running_var  \t  torch.Size([256])\n",
            "3.num_batches_tracked  \t  torch.Size([])\n",
            "5.weight  \t  torch.Size([512, 256])\n",
            "5.bias  \t  torch.Size([512])\n",
            "6.weight  \t  torch.Size([512])\n",
            "6.bias  \t  torch.Size([512])\n",
            "6.running_mean  \t  torch.Size([512])\n",
            "6.running_var  \t  torch.Size([512])\n",
            "6.num_batches_tracked  \t  torch.Size([])\n",
            "8.weight  \t  torch.Size([1024, 512])\n",
            "8.bias  \t  torch.Size([1024])\n",
            "9.weight  \t  torch.Size([1024])\n",
            "9.bias  \t  torch.Size([1024])\n",
            "9.running_mean  \t  torch.Size([1024])\n",
            "9.running_var  \t  torch.Size([1024])\n",
            "9.num_batches_tracked  \t  torch.Size([])\n",
            "11.weight  \t  torch.Size([27648, 1024])\n",
            "11.bias  \t  torch.Size([27648])\n",
            "Files already downloaded and verified\n",
            "2019-08-06_15-19-57 [Epoch 0/200] [Batch 0/313] [D loss: 0.506013] [G loss: 0.927204]\n",
            "nombre : 9876543210 generated\n",
            "Model saved in /content/gdrive/My Drive/TFE/dataset/3/2019-08-06_15-19/model/model_312.pth\n",
            "2019-08-06_15-20-15 [Epoch 1/200] [Batch 7/313] [D loss: 0.105840] [G loss: 0.772831]\n",
            "nombre : 9876543210 generated\n",
            "Model saved in /content/gdrive/My Drive/TFE/dataset/3/2019-08-06_15-19/model/model_625.pth\n",
            "2019-08-06_15-20-34 [Epoch 2/200] [Batch 14/313] [D loss: 0.101329] [G loss: 0.820296]\n",
            "nombre : 9876543210 generated\n",
            "Model saved in /content/gdrive/My Drive/TFE/dataset/3/2019-08-06_15-19/model/model_938.pth\n",
            "2019-08-06_15-20-51 [Epoch 3/200] [Batch 21/313] [D loss: 0.070769] [G loss: 0.849957]\n",
            "nombre : 9876543210 generated\n",
            "Model saved in /content/gdrive/My Drive/TFE/dataset/3/2019-08-06_15-19/model/model_1251.pth\n",
            "2019-08-06_15-21-10 [Epoch 4/200] [Batch 28/313] [D loss: 0.133344] [G loss: 0.699840]\n",
            "nombre : 9876543210 generated\n",
            "Model saved in /content/gdrive/My Drive/TFE/dataset/3/2019-08-06_15-19/model/model_1564.pth\n",
            "2019-08-06_15-21-28 [Epoch 5/200] [Batch 35/313] [D loss: 0.066491] [G loss: 0.732823]\n",
            "nombre : 9876543210 generated\n",
            "Model saved in /content/gdrive/My Drive/TFE/dataset/3/2019-08-06_15-19/model/model_1877.pth\n",
            "2019-08-06_15-21-46 [Epoch 6/200] [Batch 42/313] [D loss: 0.130297] [G loss: 0.673269]\n",
            "nombre : 9876543210 generated\n",
            "Model saved in /content/gdrive/My Drive/TFE/dataset/3/2019-08-06_15-19/model/model_2190.pth\n",
            "2019-08-06_15-22-05 [Epoch 7/200] [Batch 49/313] [D loss: 0.092800] [G loss: 0.637804]\n",
            "nombre : 9876543210 generated\n",
            "Model saved in /content/gdrive/My Drive/TFE/dataset/3/2019-08-06_15-19/model/model_2503.pth\n",
            "2019-08-06_15-22-23 [Epoch 8/200] [Batch 56/313] [D loss: 0.057467] [G loss: 0.614392]\n",
            "nombre : 9876543210 generated\n",
            "Model saved in /content/gdrive/My Drive/TFE/dataset/3/2019-08-06_15-19/model/model_2816.pth\n",
            "2019-08-06_15-22-40 [Epoch 9/200] [Batch 63/313] [D loss: 0.086797] [G loss: 0.757994]\n",
            "nombre : 9876543210 generated\n",
            "Model saved in /content/gdrive/My Drive/TFE/dataset/3/2019-08-06_15-19/model/model_3129.pth\n",
            "2019-08-06_15-22-58 [Epoch 10/200] [Batch 70/313] [D loss: 0.082315] [G loss: 0.635263]\n",
            "nombre : 9876543210 generated\n",
            "Model saved in /content/gdrive/My Drive/TFE/dataset/3/2019-08-06_15-19/model/model_3442.pth\n",
            "2019-08-06_15-23-16 [Epoch 11/200] [Batch 77/313] [D loss: 0.132403] [G loss: 0.626177]\n",
            "nombre : 9876543210 generated\n",
            "Model saved in /content/gdrive/My Drive/TFE/dataset/3/2019-08-06_15-19/model/model_3755.pth\n",
            "2019-08-06_15-23-35 [Epoch 12/200] [Batch 84/313] [D loss: 0.100847] [G loss: 0.518754]\n",
            "nombre : 9876543210 generated\n",
            "Model saved in /content/gdrive/My Drive/TFE/dataset/3/2019-08-06_15-19/model/model_4068.pth\n",
            "2019-08-06_15-23-53 [Epoch 13/200] [Batch 91/313] [D loss: 0.139701] [G loss: 0.647032]\n",
            "nombre : 9876543210 generated\n",
            "Model saved in /content/gdrive/My Drive/TFE/dataset/3/2019-08-06_15-19/model/model_4381.pth\n",
            "2019-08-06_15-24-11 [Epoch 14/200] [Batch 98/313] [D loss: 0.109393] [G loss: 0.600892]\n",
            "nombre : 9876543210 generated\n",
            "Model saved in /content/gdrive/My Drive/TFE/dataset/3/2019-08-06_15-19/model/model_4694.pth\n",
            "2019-08-06_15-24-29 [Epoch 15/200] [Batch 105/313] [D loss: 0.133091] [G loss: 0.640072]\n",
            "nombre : 9876543210 generated\n",
            "Model saved in /content/gdrive/My Drive/TFE/dataset/3/2019-08-06_15-19/model/model_5007.pth\n",
            "2019-08-06_15-24-47 [Epoch 16/200] [Batch 112/313] [D loss: 0.125141] [G loss: 0.826123]\n",
            "nombre : 9876543210 generated\n",
            "Model saved in /content/gdrive/My Drive/TFE/dataset/3/2019-08-06_15-19/model/model_5320.pth\n",
            "2019-08-06_15-25-05 [Epoch 17/200] [Batch 119/313] [D loss: 0.126499] [G loss: 0.480028]\n",
            "nombre : 9876543210 generated\n",
            "Model saved in /content/gdrive/My Drive/TFE/dataset/3/2019-08-06_15-19/model/model_5633.pth\n",
            "2019-08-06_15-25-23 [Epoch 18/200] [Batch 126/313] [D loss: 0.167443] [G loss: 0.592026]\n",
            "nombre : 9876543210 generated\n",
            "Model saved in /content/gdrive/My Drive/TFE/dataset/3/2019-08-06_15-19/model/model_5946.pth\n",
            "2019-08-06_15-25-41 [Epoch 19/200] [Batch 133/313] [D loss: 0.134787] [G loss: 0.585793]\n",
            "nombre : 9876543210 generated\n",
            "Model saved in /content/gdrive/My Drive/TFE/dataset/3/2019-08-06_15-19/model/model_6259.pth\n",
            "2019-08-06_15-25-59 [Epoch 20/200] [Batch 140/313] [D loss: 0.118112] [G loss: 0.540515]\n",
            "nombre : 9876543210 generated\n",
            "Model saved in /content/gdrive/My Drive/TFE/dataset/3/2019-08-06_15-19/model/model_6572.pth\n",
            "2019-08-06_15-26-17 [Epoch 21/200] [Batch 147/313] [D loss: 0.124478] [G loss: 0.580120]\n",
            "nombre : 9876543210 generated\n",
            "Model saved in /content/gdrive/My Drive/TFE/dataset/3/2019-08-06_15-19/model/model_6885.pth\n",
            "2019-08-06_15-26-35 [Epoch 22/200] [Batch 154/313] [D loss: 0.120547] [G loss: 0.450231]\n",
            "nombre : 9876543210 generated\n",
            "Model saved in /content/gdrive/My Drive/TFE/dataset/3/2019-08-06_15-19/model/model_7198.pth\n",
            "2019-08-06_15-26-53 [Epoch 23/200] [Batch 161/313] [D loss: 0.145924] [G loss: 0.453516]\n",
            "nombre : 9876543210 generated\n",
            "Model saved in /content/gdrive/My Drive/TFE/dataset/3/2019-08-06_15-19/model/model_7511.pth\n",
            "2019-08-06_15-27-11 [Epoch 24/200] [Batch 168/313] [D loss: 0.131959] [G loss: 0.595767]\n",
            "nombre : 9876543210 generated\n",
            "Model saved in /content/gdrive/My Drive/TFE/dataset/3/2019-08-06_15-19/model/model_7824.pth\n",
            "2019-08-06_15-27-29 [Epoch 25/200] [Batch 175/313] [D loss: 0.149251] [G loss: 0.528284]\n",
            "nombre : 9876543210 generated\n",
            "Model saved in /content/gdrive/My Drive/TFE/dataset/3/2019-08-06_15-19/model/model_8137.pth\n",
            "2019-08-06_15-27-47 [Epoch 26/200] [Batch 182/313] [D loss: 0.143782] [G loss: 0.528892]\n",
            "nombre : 9876543210 generated\n",
            "Model saved in /content/gdrive/My Drive/TFE/dataset/3/2019-08-06_15-19/model/model_8450.pth\n",
            "2019-08-06_15-28-05 [Epoch 27/200] [Batch 189/313] [D loss: 0.145266] [G loss: 0.702246]\n",
            "nombre : 9876543210 generated\n",
            "Model saved in /content/gdrive/My Drive/TFE/dataset/3/2019-08-06_15-19/model/model_8763.pth\n",
            "2019-08-06_15-28-23 [Epoch 28/200] [Batch 196/313] [D loss: 0.128036] [G loss: 0.527273]\n",
            "nombre : 9876543210 generated\n",
            "Model saved in /content/gdrive/My Drive/TFE/dataset/3/2019-08-06_15-19/model/model_9076.pth\n",
            "2019-08-06_15-28-41 [Epoch 29/200] [Batch 203/313] [D loss: 0.144232] [G loss: 0.460089]\n",
            "nombre : 9876543210 generated\n",
            "Model saved in /content/gdrive/My Drive/TFE/dataset/3/2019-08-06_15-19/model/model_9389.pth\n",
            "2019-08-06_15-28-59 [Epoch 30/200] [Batch 210/313] [D loss: 0.124779] [G loss: 0.497579]\n",
            "nombre : 9876543210 generated\n",
            "Model saved in /content/gdrive/My Drive/TFE/dataset/3/2019-08-06_15-19/model/model_9702.pth\n",
            "2019-08-06_15-29-17 [Epoch 31/200] [Batch 217/313] [D loss: 0.154103] [G loss: 0.506382]\n",
            "nombre : 9876543210 generated\n",
            "Model saved in /content/gdrive/My Drive/TFE/dataset/3/2019-08-06_15-19/model/model_10015.pth\n",
            "2019-08-06_15-29-35 [Epoch 32/200] [Batch 224/313] [D loss: 0.180511] [G loss: 0.524572]\n",
            "nombre : 9876543210 generated\n",
            "Model saved in /content/gdrive/My Drive/TFE/dataset/3/2019-08-06_15-19/model/model_10328.pth\n",
            "2019-08-06_15-29-53 [Epoch 33/200] [Batch 231/313] [D loss: 0.135712] [G loss: 0.657967]\n",
            "nombre : 9876543210 generated\n",
            "Model saved in /content/gdrive/My Drive/TFE/dataset/3/2019-08-06_15-19/model/model_10641.pth\n",
            "2019-08-06_15-30-11 [Epoch 34/200] [Batch 238/313] [D loss: 0.137780] [G loss: 0.649609]\n",
            "nombre : 9876543210 generated\n",
            "Model saved in /content/gdrive/My Drive/TFE/dataset/3/2019-08-06_15-19/model/model_10954.pth\n",
            "2019-08-06_15-30-29 [Epoch 35/200] [Batch 245/313] [D loss: 0.171000] [G loss: 0.575541]\n",
            "nombre : 9876543210 generated\n",
            "Model saved in /content/gdrive/My Drive/TFE/dataset/3/2019-08-06_15-19/model/model_11267.pth\n",
            "2019-08-06_15-30-47 [Epoch 36/200] [Batch 252/313] [D loss: 0.171633] [G loss: 0.380735]\n",
            "nombre : 9876543210 generated\n",
            "Model saved in /content/gdrive/My Drive/TFE/dataset/3/2019-08-06_15-19/model/model_11580.pth\n",
            "2019-08-06_15-31-05 [Epoch 37/200] [Batch 259/313] [D loss: 0.217884] [G loss: 0.553788]\n",
            "nombre : 9876543210 generated\n",
            "Model saved in /content/gdrive/My Drive/TFE/dataset/3/2019-08-06_15-19/model/model_11893.pth\n",
            "2019-08-06_15-31-23 [Epoch 38/200] [Batch 266/313] [D loss: 0.190655] [G loss: 0.482574]\n",
            "nombre : 9876543210 generated\n",
            "Model saved in /content/gdrive/My Drive/TFE/dataset/3/2019-08-06_15-19/model/model_12206.pth\n",
            "2019-08-06_15-31-41 [Epoch 39/200] [Batch 273/313] [D loss: 0.132183] [G loss: 0.451283]\n",
            "nombre : 9876543210 generated\n",
            "Model saved in /content/gdrive/My Drive/TFE/dataset/3/2019-08-06_15-19/model/model_12519.pth\n",
            "2019-08-06_15-31-59 [Epoch 40/200] [Batch 280/313] [D loss: 0.208094] [G loss: 0.426907]\n",
            "nombre : 9876543210 generated\n",
            "Model saved in /content/gdrive/My Drive/TFE/dataset/3/2019-08-06_15-19/model/model_12832.pth\n",
            "2019-08-06_15-32-17 [Epoch 41/200] [Batch 287/313] [D loss: 0.246358] [G loss: 0.368186]\n",
            "nombre : 9876543210 generated\n",
            "Model saved in /content/gdrive/My Drive/TFE/dataset/3/2019-08-06_15-19/model/model_13145.pth\n",
            "2019-08-06_15-32-35 [Epoch 42/200] [Batch 294/313] [D loss: 0.220929] [G loss: 0.469016]\n",
            "nombre : 9876543210 generated\n",
            "Model saved in /content/gdrive/My Drive/TFE/dataset/3/2019-08-06_15-19/model/model_13458.pth\n",
            "2019-08-06_15-32-53 [Epoch 43/200] [Batch 301/313] [D loss: 0.174398] [G loss: 0.365324]\n",
            "nombre : 9876543210 generated\n",
            "Model saved in /content/gdrive/My Drive/TFE/dataset/3/2019-08-06_15-19/model/model_13771.pth\n",
            "2019-08-06_15-33-12 [Epoch 44/200] [Batch 308/313] [D loss: 0.184506] [G loss: 0.496212]\n",
            "nombre : 9876543210 generated\n",
            "Model saved in /content/gdrive/My Drive/TFE/dataset/3/2019-08-06_15-19/model/model_14084.pth\n",
            "Model saved in /content/gdrive/My Drive/TFE/dataset/3/2019-08-06_15-19/model/model_14397.pth\n",
            "2019-08-06_15-33-30 [Epoch 46/200] [Batch 2/313] [D loss: 0.150624] [G loss: 0.521902]\n",
            "nombre : 9876543210 generated\n",
            "Model saved in /content/gdrive/My Drive/TFE/dataset/3/2019-08-06_15-19/model/model_14710.pth\n",
            "2019-08-06_15-33-48 [Epoch 47/200] [Batch 9/313] [D loss: 0.233577] [G loss: 0.456853]\n",
            "nombre : 9876543210 generated\n",
            "Model saved in /content/gdrive/My Drive/TFE/dataset/3/2019-08-06_15-19/model/model_15023.pth\n",
            "2019-08-06_15-34-06 [Epoch 48/200] [Batch 16/313] [D loss: 0.243212] [G loss: 0.436713]\n",
            "nombre : 9876543210 generated\n",
            "Model saved in /content/gdrive/My Drive/TFE/dataset/3/2019-08-06_15-19/model/model_15336.pth\n",
            "2019-08-06_15-34-25 [Epoch 49/200] [Batch 23/313] [D loss: 0.223383] [G loss: 0.361361]\n",
            "nombre : 9876543210 generated\n",
            "Model saved in /content/gdrive/My Drive/TFE/dataset/3/2019-08-06_15-19/model/model_15649.pth\n",
            "2019-08-06_15-34-43 [Epoch 50/200] [Batch 30/313] [D loss: 0.200456] [G loss: 0.484609]\n",
            "nombre : 9876543210 generated\n",
            "Model saved in /content/gdrive/My Drive/TFE/dataset/3/2019-08-06_15-19/model/model_15962.pth\n",
            "2019-08-06_15-35-02 [Epoch 51/200] [Batch 37/313] [D loss: 0.286115] [G loss: 0.252775]\n",
            "nombre : 9876543210 generated\n",
            "Model saved in /content/gdrive/My Drive/TFE/dataset/3/2019-08-06_15-19/model/model_16275.pth\n",
            "2019-08-06_15-35-20 [Epoch 52/200] [Batch 44/313] [D loss: 0.179225] [G loss: 0.459755]\n",
            "nombre : 9876543210 generated\n",
            "Model saved in /content/gdrive/My Drive/TFE/dataset/3/2019-08-06_15-19/model/model_16588.pth\n",
            "2019-08-06_15-35-38 [Epoch 53/200] [Batch 51/313] [D loss: 0.226777] [G loss: 0.541585]\n",
            "nombre : 9876543210 generated\n"
          ],
          "name": "stdout"
        }
      ]
    },
    {
      "cell_type": "code",
      "metadata": {
        "id": "4OU3sZHrkgUT",
        "colab_type": "code",
        "colab": {}
      },
      "source": [
        ""
      ],
      "execution_count": 0,
      "outputs": []
    },
    {
      "cell_type": "markdown",
      "metadata": {
        "id": "vaYDK5IkkVLe",
        "colab_type": "text"
      },
      "source": [
        "## ***Test du modèle***"
      ]
    },
    {
      "cell_type": "code",
      "metadata": {
        "id": "gN0GmvUsyf_a",
        "colab_type": "code",
        "colab": {}
      },
      "source": [
        "!python3 cgan_loadgenimg.py --dataset 4 --channels 1 --genidlabel 4 --gennumber 9876543210 --img_size 28\n",
        "%run printresult.py"
      ],
      "execution_count": 0,
      "outputs": []
    },
    {
      "cell_type": "markdown",
      "metadata": {
        "id": "mCvqQi3olCPI",
        "colab_type": "text"
      },
      "source": [
        "# ***Création de vidéo de l'évolution du Learning***"
      ]
    },
    {
      "cell_type": "code",
      "metadata": {
        "id": "0BwVAT9dZrzg",
        "colab_type": "code",
        "colab": {}
      },
      "source": [
        "import cv2\n",
        "import os\n",
        "import os.path\n",
        "\n",
        "path = \"/content/gdrive/My\\ Drive/TFE/video\"\n",
        "os.path.dirname(path)\n",
        "\n",
        "image_folder = '/content/gdrive/My Drive/TFE/dataset/6/2019-08-36_11-33/0-9'\n",
        "video_name = '/content/gdrive/My Drive/TFE/video/videogen_0_9.avi'\n",
        "\n",
        "#image_folder1 = '/content/gdrive/My Drive/TFE/images/2019-07-25_11-33/gen_8'\n",
        "#video_name1 = '/content/gdrive/My Drive/TFE/video/video_gen_8.avi'\n",
        "\n",
        "#image_folder2 = '/content/gdrive/My Drive/TFE/images/2019-07-25_11-33/gen_987'\n",
        "#video_name2 = '/content/gdrive/My Drive/TFE/video/video_gen_987.avi'\n",
        "\n",
        "images = [img for img in os.listdir(image_folder) if img.endswith(\".png\")]\n",
        "frame = cv2.imread(os.path.join(image_folder, images[0]))\n",
        "height, width, layers = frame.shape\n",
        "\n",
        "video = cv2.VideoWriter(video_name, 0, 8, (width,height))\n",
        "\n",
        "for image in images:\n",
        "    video.write(cv2.imread(os.path.join(image_folder, image)))\n",
        "\n",
        "cv2.destroyAllWindows()\n",
        "video.release()\n",
        "\n",
        "'''\n",
        "images = [img for img in os.listdir(image_folder1) if img.endswith(\".png\")]\n",
        "frame = cv2.imread(os.path.join(image_folder1, images[0]))\n",
        "height, width, layers = frame.shape\n",
        "\n",
        "video = cv2.VideoWriter(video_name1, 0, 8, (width,height))\n",
        "\n",
        "for image in images:\n",
        "    video.write(cv2.imread(os.path.join(image_folder1, image)))\n",
        "\n",
        "cv2.destroyAllWindows()\n",
        "video.release()\n",
        "\n",
        "images = [img for img in os.listdir(image_folder2) if img.endswith(\".png\")]\n",
        "frame = cv2.imread(os.path.join(image_folder2, images[0]))\n",
        "height, width, layers = frame.shape\n",
        "\n",
        "video = cv2.VideoWriter(video_name2, 0, 8, (width,height))\n",
        "\n",
        "for image in images:\n",
        "    video.write(cv2.imread(os.path.join(image_folder2, image)))\n",
        "\n",
        "cv2.destroyAllWindows()\n",
        "video.release()\n",
        "'''"
      ],
      "execution_count": 0,
      "outputs": []
    }
  ]
}