{
  "nbformat": 4,
  "nbformat_minor": 0,
  "metadata": {
    "colab": {
      "name": "tfe_003.ipynb",
      "version": "0.3.2",
      "provenance": [],
      "collapsed_sections": [],
      "include_colab_link": true
    },
    "kernelspec": {
      "name": "python3",
      "display_name": "Python 3"
    },
    "accelerator": "GPU"
  },
  "cells": [
    {
      "cell_type": "markdown",
      "metadata": {
        "id": "view-in-github",
        "colab_type": "text"
      },
      "source": [
        "<a href=\"https://colab.research.google.com/github/rombaux/PyTorch-GAN/blob/master/tfe_004.ipynb\" target=\"_parent\"><img src=\"https://colab.research.google.com/assets/colab-badge.svg\" alt=\"Open In Colab\"/></a>"
      ]
    },
    {
      "cell_type": "markdown",
      "metadata": {
        "id": "g7xpBF1PrS_5",
        "colab_type": "text"
      },
      "source": [
        "# ***MONTAGE DU GDRIVE***"
      ]
    },
    {
      "cell_type": "code",
      "metadata": {
        "id": "jpyTsxWWEuUr",
        "colab_type": "code",
        "outputId": "fafc93cc-e827-49bd-9c88-1b3b6965dbb6",
        "colab": {
          "base_uri": "https://localhost:8080/",
          "height": 35
        }
      },
      "source": [
        "from google.colab import drive\n",
        "drive.mount('/content/gdrive')"
      ],
      "execution_count": 35,
      "outputs": [
        {
          "output_type": "stream",
          "text": [
            "Drive already mounted at /content/gdrive; to attempt to forcibly remount, call drive.mount(\"/content/gdrive\", force_remount=True).\n"
          ],
          "name": "stdout"
        }
      ]
    },
    {
      "cell_type": "markdown",
      "metadata": {
        "id": "keCmZcojrHWY",
        "colab_type": "text"
      },
      "source": [
        ""
      ]
    },
    {
      "cell_type": "markdown",
      "metadata": {
        "id": "hBdU-MSSrKk-",
        "colab_type": "text"
      },
      "source": [
        "# GIT DOWNLOAD"
      ]
    },
    {
      "cell_type": "code",
      "metadata": {
        "id": "HkvxnhrYEyqQ",
        "colab_type": "code",
        "outputId": "782eeacb-cbc3-4b2b-c793-f28d7ac122c6",
        "colab": {
          "base_uri": "https://localhost:8080/",
          "height": 146
        }
      },
      "source": [
        "!git clone https://github.com/rombaux/PyTorch-GAN"
      ],
      "execution_count": 36,
      "outputs": [
        {
          "output_type": "stream",
          "text": [
            "Cloning into 'PyTorch-GAN'...\n",
            "remote: Enumerating objects: 209, done.\u001b[K\n",
            "remote: Counting objects: 100% (209/209), done.\u001b[K\n",
            "remote: Compressing objects: 100% (129/129), done.\u001b[K\n",
            "remote: Total 2994 (delta 149), reused 133 (delta 75), pack-reused 2785\u001b[K\n",
            "Receiving objects: 100% (2994/2994), 61.06 MiB | 1.90 MiB/s, done.\n",
            "Resolving deltas: 100% (2081/2081), done.\n"
          ],
          "name": "stdout"
        }
      ]
    },
    {
      "cell_type": "markdown",
      "metadata": {
        "id": "c4M1qDtduHio",
        "colab_type": "text"
      },
      "source": [
        "# INSTALLATION des Dépendances"
      ]
    },
    {
      "cell_type": "code",
      "metadata": {
        "id": "p7EXl4-cEyuP",
        "colab_type": "code",
        "outputId": "2319408c-0d13-4a94-96c0-806053ffdc56",
        "colab": {
          "base_uri": "https://localhost:8080/",
          "height": 35
        }
      },
      "source": [
        "cd /content/PyTorch-GAN"
      ],
      "execution_count": 37,
      "outputs": [
        {
          "output_type": "stream",
          "text": [
            "/content/PyTorch-GAN\n"
          ],
          "name": "stdout"
        }
      ]
    },
    {
      "cell_type": "code",
      "metadata": {
        "id": "Ci9PjYSHEyxw",
        "colab_type": "code",
        "outputId": "6ea89378-8a14-4a65-bff2-2becd0840965",
        "colab": {
          "base_uri": "https://localhost:8080/",
          "height": 366
        }
      },
      "source": [
        "!sudo pip3 install -r requirements.txt"
      ],
      "execution_count": 38,
      "outputs": [
        {
          "output_type": "stream",
          "text": [
            "Requirement already satisfied: torch>=0.4.0 in /usr/local/lib/python3.6/dist-packages (from -r requirements.txt (line 1)) (1.1.0)\n",
            "Requirement already satisfied: torchvision in /usr/local/lib/python3.6/dist-packages (from -r requirements.txt (line 2)) (0.3.0)\n",
            "Requirement already satisfied: matplotlib in /usr/local/lib/python3.6/dist-packages (from -r requirements.txt (line 3)) (3.0.3)\n",
            "Requirement already satisfied: numpy in /usr/local/lib/python3.6/dist-packages (from -r requirements.txt (line 4)) (1.16.4)\n",
            "Requirement already satisfied: scipy in /usr/local/lib/python3.6/dist-packages (from -r requirements.txt (line 5)) (1.3.0)\n",
            "Requirement already satisfied: pillow in /usr/local/lib/python3.6/dist-packages (from -r requirements.txt (line 6)) (4.3.0)\n",
            "Requirement already satisfied: urllib3 in /usr/local/lib/python3.6/dist-packages (from -r requirements.txt (line 7)) (1.24.3)\n",
            "Requirement already satisfied: scikit-image in /usr/local/lib/python3.6/dist-packages (from -r requirements.txt (line 8)) (0.15.0)\n",
            "Requirement already satisfied: six in /usr/local/lib/python3.6/dist-packages (from torchvision->-r requirements.txt (line 2)) (1.12.0)\n",
            "Requirement already satisfied: kiwisolver>=1.0.1 in /usr/local/lib/python3.6/dist-packages (from matplotlib->-r requirements.txt (line 3)) (1.1.0)\n",
            "Requirement already satisfied: cycler>=0.10 in /usr/local/lib/python3.6/dist-packages (from matplotlib->-r requirements.txt (line 3)) (0.10.0)\n",
            "Requirement already satisfied: pyparsing!=2.0.4,!=2.1.2,!=2.1.6,>=2.0.1 in /usr/local/lib/python3.6/dist-packages (from matplotlib->-r requirements.txt (line 3)) (2.4.2)\n",
            "Requirement already satisfied: python-dateutil>=2.1 in /usr/local/lib/python3.6/dist-packages (from matplotlib->-r requirements.txt (line 3)) (2.5.3)\n",
            "Requirement already satisfied: olefile in /usr/local/lib/python3.6/dist-packages (from pillow->-r requirements.txt (line 6)) (0.46)\n",
            "Requirement already satisfied: networkx>=2.0 in /usr/local/lib/python3.6/dist-packages (from scikit-image->-r requirements.txt (line 8)) (2.3)\n",
            "Requirement already satisfied: imageio>=2.0.1 in /usr/local/lib/python3.6/dist-packages (from scikit-image->-r requirements.txt (line 8)) (2.4.1)\n",
            "Requirement already satisfied: PyWavelets>=0.4.0 in /usr/local/lib/python3.6/dist-packages (from scikit-image->-r requirements.txt (line 8)) (1.0.3)\n",
            "Requirement already satisfied: setuptools in /usr/local/lib/python3.6/dist-packages (from kiwisolver>=1.0.1->matplotlib->-r requirements.txt (line 3)) (41.0.1)\n",
            "Requirement already satisfied: decorator>=4.3.0 in /usr/local/lib/python3.6/dist-packages (from networkx>=2.0->scikit-image->-r requirements.txt (line 8)) (4.4.0)\n"
          ],
          "name": "stdout"
        }
      ]
    },
    {
      "cell_type": "markdown",
      "metadata": {
        "id": "xkHYcyz5qpx1",
        "colab_type": "text"
      },
      "source": [
        "# *GIT MISE à JOUR*"
      ]
    },
    {
      "cell_type": "code",
      "metadata": {
        "id": "HyDADNO0XFX5",
        "colab_type": "code",
        "outputId": "0b6b7292-9f06-4bc4-b58a-546114f9bef1",
        "colab": {
          "base_uri": "https://localhost:8080/",
          "height": 54
        }
      },
      "source": [
        "!git pull"
      ],
      "execution_count": 27,
      "outputs": [
        {
          "output_type": "stream",
          "text": [
            "fatal: not a git repository (or any parent up to mount point /content)\n",
            "Stopping at filesystem boundary (GIT_DISCOVERY_ACROSS_FILESYSTEM not set).\n"
          ],
          "name": "stdout"
        }
      ]
    },
    {
      "cell_type": "code",
      "metadata": {
        "id": "o41FSpthXnyO",
        "colab_type": "code",
        "colab": {}
      },
      "source": [
        "!git log -n 3"
      ],
      "execution_count": 0,
      "outputs": []
    },
    {
      "cell_type": "markdown",
      "metadata": {
        "id": "zWL1RmvYqJnG",
        "colab_type": "text"
      },
      "source": [
        "# GENERATEUR"
      ]
    },
    {
      "cell_type": "code",
      "metadata": {
        "id": "8Yy4oOJ7Ey1R",
        "colab_type": "code",
        "outputId": "e3794029-9f32-4e0b-90b2-8677bf8f5a05",
        "colab": {
          "base_uri": "https://localhost:8080/",
          "height": 35
        }
      },
      "source": [
        "cd /content/PyTorch-GAN/implementations/cgan/"
      ],
      "execution_count": 39,
      "outputs": [
        {
          "output_type": "stream",
          "text": [
            "/content/PyTorch-GAN/implementations/cgan\n"
          ],
          "name": "stdout"
        }
      ]
    },
    {
      "cell_type": "markdown",
      "metadata": {
        "id": "YGSOrQB_kd2l",
        "colab_type": "text"
      },
      "source": [
        "## ***Procédure d'apprentissage du CGAN***"
      ]
    },
    {
      "cell_type": "code",
      "metadata": {
        "id": "Cjovvh2cZZEB",
        "colab_type": "code",
        "colab": {}
      },
      "source": [
        "%run choice_dataset_for_training.py\n",
        "!python3 cgan_genimg.py --n_epochs $optn_epochs --gennumber $optgennumber --genidlabel $optgenidlabel --sample_interval $optsample_interval --dataset $optdataset --channels $optchannel --n_classes $optn_classes --img_size $optimg_size --batch_size $optbatch_size\n",
        "%run printloss.py"
      ],
      "execution_count": 0,
      "outputs": []
    },
    {
      "cell_type": "code",
      "metadata": {
        "id": "4OU3sZHrkgUT",
        "colab_type": "code",
        "colab": {}
      },
      "source": [
        ""
      ],
      "execution_count": 0,
      "outputs": []
    },
    {
      "cell_type": "markdown",
      "metadata": {
        "id": "vaYDK5IkkVLe",
        "colab_type": "text"
      },
      "source": [
        "## ***Test du modèle***"
      ]
    },
    {
      "cell_type": "code",
      "metadata": {
        "id": "gN0GmvUsyf_a",
        "colab_type": "code",
        "colab": {}
      },
      "source": [
        "%run choice_dataset_for_generator.py\n",
        "!python3 cgan_loadgenimg.py --dataset $optdataset --channels $optchannel --genidlabel $optgenidlabel --gennumber $optgennumber --img_size $optimg_size\n",
        "%run printresult.py"
      ],
      "execution_count": 0,
      "outputs": []
    },
    {
      "cell_type": "code",
      "metadata": {
        "id": "Fh0c1jNAreMA",
        "colab_type": "code",
        "colab": {}
      },
      "source": [
        "%run printloss.py"
      ],
      "execution_count": 0,
      "outputs": []
    },
    {
      "cell_type": "code",
      "metadata": {
        "id": "kK90hUuy02sc",
        "colab_type": "code",
        "colab": {
          "base_uri": "https://localhost:8080/",
          "height": 35
        },
        "outputId": "f96f15ba-b9f2-4316-d977-6d24d73267be"
      },
      "source": [
        "cd /content/gdrive/My Drive/TFE/dataset/0/"
      ],
      "execution_count": 24,
      "outputs": [
        {
          "output_type": "stream",
          "text": [
            "/content/gdrive/My Drive/TFE/dataset/0\n"
          ],
          "name": "stdout"
        }
      ]
    },
    {
      "cell_type": "code",
      "metadata": {
        "id": "eTHWcK7A1DQ5",
        "colab_type": "code",
        "colab": {
          "base_uri": "https://localhost:8080/",
          "height": 35
        },
        "outputId": "4838e012-e7db-4cd0-9f53-96126f277e03"
      },
      "source": [
        "ls"
      ],
      "execution_count": 25,
      "outputs": [
        {
          "output_type": "stream",
          "text": [
            " \u001b[0m\u001b[01;34m2019-08-02_01-27\u001b[0m/   \u001b[01;34m2019-08-06_15-56\u001b[0m/  \u001b[01;34m'Dossier sans titre'\u001b[0m/   \u001b[01;34mmodelimage\u001b[0m/\n"
          ],
          "name": "stdout"
        }
      ]
    },
    {
      "cell_type": "markdown",
      "metadata": {
        "id": "mCvqQi3olCPI",
        "colab_type": "text"
      },
      "source": [
        "# ***Création de vidéo de l'évolution du Learning***"
      ]
    },
    {
      "cell_type": "code",
      "metadata": {
        "id": "0BwVAT9dZrzg",
        "colab_type": "code",
        "colab": {}
      },
      "source": [
        "import cv2\n",
        "import os\n",
        "import os.path\n",
        "\n",
        "path = \"/content/gdrive/My\\ Drive/TFE/video\"\n",
        "os.path.dirname(path)\n",
        "\n",
        "image_folder = '/content/gdrive/My Drive/TFE/dataset/6/2019-08-36_11-33/0-9'\n",
        "video_name = '/content/gdrive/My Drive/TFE/video/videogen_0_9.avi'\n",
        "\n",
        "#image_folder1 = '/content/gdrive/My Drive/TFE/images/2019-07-25_11-33/gen_8'\n",
        "#video_name1 = '/content/gdrive/My Drive/TFE/video/video_gen_8.avi'\n",
        "\n",
        "#image_folder2 = '/content/gdrive/My Drive/TFE/images/2019-07-25_11-33/gen_987'\n",
        "#video_name2 = '/content/gdrive/My Drive/TFE/video/video_gen_987.avi'\n",
        "\n",
        "images = [img for img in os.listdir(image_folder) if img.endswith(\".png\")]\n",
        "frame = cv2.imread(os.path.join(image_folder, images[0]))\n",
        "height, width, layers = frame.shape\n",
        "\n",
        "video = cv2.VideoWriter(video_name, 0, 8, (width,height))\n",
        "\n",
        "for image in images:\n",
        "    video.write(cv2.imread(os.path.join(image_folder, image)))\n",
        "\n",
        "cv2.destroyAllWindows()\n",
        "video.release()\n",
        "\n",
        "'''\n",
        "images = [img for img in os.listdir(image_folder1) if img.endswith(\".png\")]\n",
        "frame = cv2.imread(os.path.join(image_folder1, images[0]))\n",
        "height, width, layers = frame.shape\n",
        "\n",
        "video = cv2.VideoWriter(video_name1, 0, 8, (width,height))\n",
        "\n",
        "for image in images:\n",
        "    video.write(cv2.imread(os.path.join(image_folder1, image)))\n",
        "\n",
        "cv2.destroyAllWindows()\n",
        "video.release()\n",
        "\n",
        "images = [img for img in os.listdir(image_folder2) if img.endswith(\".png\")]\n",
        "frame = cv2.imread(os.path.join(image_folder2, images[0]))\n",
        "height, width, layers = frame.shape\n",
        "\n",
        "video = cv2.VideoWriter(video_name2, 0, 8, (width,height))\n",
        "\n",
        "for image in images:\n",
        "    video.write(cv2.imread(os.path.join(image_folder2, image)))\n",
        "\n",
        "cv2.destroyAllWindows()\n",
        "video.release()\n",
        "'''"
      ],
      "execution_count": 0,
      "outputs": []
    }
  ]
}