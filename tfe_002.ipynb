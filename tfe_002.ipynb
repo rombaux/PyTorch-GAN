{
  "nbformat": 4,
  "nbformat_minor": 0,
  "metadata": {
    "colab": {
      "name": "tfe_001.ipynb",
      "version": "0.3.2",
      "provenance": [],
      "collapsed_sections": [],
      "include_colab_link": true
    },
    "kernelspec": {
      "name": "python3",
      "display_name": "Python 3"
    },
    "accelerator": "GPU"
  },
  "cells": [
    {
      "cell_type": "markdown",
      "metadata": {
        "id": "view-in-github",
        "colab_type": "text"
      },
      "source": [
        "<a href=\"https://colab.research.google.com/github/rombaux/PyTorch-GAN/blob/master/tfe_002.ipynb\" target=\"_parent\"><img src=\"https://colab.research.google.com/assets/colab-badge.svg\" alt=\"Open In Colab\"/></a>"
      ]
    },
    {
      "cell_type": "markdown",
      "metadata": {
        "id": "g7xpBF1PrS_5",
        "colab_type": "text"
      },
      "source": [
        "# ***MONTAGE DU GDRIVE***"
      ]
    },
    {
      "cell_type": "code",
      "metadata": {
        "id": "jpyTsxWWEuUr",
        "colab_type": "code",
        "outputId": "5eb2279f-4bec-4123-88d3-4ae005a4cfce",
        "colab": {
          "base_uri": "https://localhost:8080/",
          "height": 122
        }
      },
      "source": [
        "from google.colab import drive\n",
        "drive.mount('/content/gdrive')"
      ],
      "execution_count": 1,
      "outputs": [
        {
          "output_type": "stream",
          "text": [
            "Go to this URL in a browser: https://accounts.google.com/o/oauth2/auth?client_id=947318989803-6bn6qk8qdgf4n4g3pfee6491hc0brc4i.apps.googleusercontent.com&redirect_uri=urn%3Aietf%3Awg%3Aoauth%3A2.0%3Aoob&scope=email%20https%3A%2F%2Fwww.googleapis.com%2Fauth%2Fdocs.test%20https%3A%2F%2Fwww.googleapis.com%2Fauth%2Fdrive%20https%3A%2F%2Fwww.googleapis.com%2Fauth%2Fdrive.photos.readonly%20https%3A%2F%2Fwww.googleapis.com%2Fauth%2Fpeopleapi.readonly&response_type=code\n",
            "\n",
            "Enter your authorization code:\n",
            "··········\n",
            "Mounted at /content/gdrive\n"
          ],
          "name": "stdout"
        }
      ]
    },
    {
      "cell_type": "markdown",
      "metadata": {
        "id": "keCmZcojrHWY",
        "colab_type": "text"
      },
      "source": [
        ""
      ]
    },
    {
      "cell_type": "markdown",
      "metadata": {
        "id": "hBdU-MSSrKk-",
        "colab_type": "text"
      },
      "source": [
        "# GIT DOWNLOAD"
      ]
    },
    {
      "cell_type": "code",
      "metadata": {
        "id": "HkvxnhrYEyqQ",
        "colab_type": "code",
        "colab": {
          "base_uri": "https://localhost:8080/",
          "height": 136
        },
        "outputId": "a078e25c-1d8c-491b-d76f-80724f737593"
      },
      "source": [
        "!git clone https://github.com/rombaux/PyTorch-GAN"
      ],
      "execution_count": 2,
      "outputs": [
        {
          "output_type": "stream",
          "text": [
            "Cloning into 'PyTorch-GAN'...\n",
            "remote: Enumerating objects: 188, done.\u001b[K\n",
            "remote: Counting objects: 100% (188/188), done.\u001b[K\n",
            "remote: Compressing objects: 100% (124/124), done.\u001b[K\n",
            "remote: Total 1451 (delta 130), reused 107 (delta 59), pack-reused 1263\n",
            "Receiving objects: 100% (1451/1451), 60.93 MiB | 10.01 MiB/s, done.\n",
            "Resolving deltas: 100% (871/871), done.\n"
          ],
          "name": "stdout"
        }
      ]
    },
    {
      "cell_type": "markdown",
      "metadata": {
        "id": "xkHYcyz5qpx1",
        "colab_type": "text"
      },
      "source": [
        "# *GIT MISE à JOUR*"
      ]
    },
    {
      "cell_type": "code",
      "metadata": {
        "id": "HyDADNO0XFX5",
        "colab_type": "code",
        "outputId": "1cc3808b-3e5c-4666-8dea-f7cdb182981c",
        "colab": {
          "base_uri": "https://localhost:8080/",
          "height": 51
        }
      },
      "source": [
        "!git pull"
      ],
      "execution_count": 36,
      "outputs": [
        {
          "output_type": "stream",
          "text": [
            "fatal: not a git repository (or any parent up to mount point /content)\n",
            "Stopping at filesystem boundary (GIT_DISCOVERY_ACROSS_FILESYSTEM not set).\n"
          ],
          "name": "stdout"
        }
      ]
    },
    {
      "cell_type": "code",
      "metadata": {
        "id": "o41FSpthXnyO",
        "colab_type": "code",
        "colab": {}
      },
      "source": [
        "!git log -n 3"
      ],
      "execution_count": 0,
      "outputs": []
    },
    {
      "cell_type": "markdown",
      "metadata": {
        "id": "c4M1qDtduHio",
        "colab_type": "text"
      },
      "source": [
        "# INSTALLATION des Dépendances"
      ]
    },
    {
      "cell_type": "code",
      "metadata": {
        "id": "p7EXl4-cEyuP",
        "colab_type": "code",
        "colab": {
          "base_uri": "https://localhost:8080/",
          "height": 34
        },
        "outputId": "c674c6e0-e853-4a81-d42d-0d4e2fb35b7a"
      },
      "source": [
        "cd /content/PyTorch-GAN"
      ],
      "execution_count": 3,
      "outputs": [
        {
          "output_type": "stream",
          "text": [
            "/content/PyTorch-GAN\n"
          ],
          "name": "stdout"
        }
      ]
    },
    {
      "cell_type": "code",
      "metadata": {
        "id": "Ci9PjYSHEyxw",
        "colab_type": "code",
        "colab": {
          "base_uri": "https://localhost:8080/",
          "height": 340
        },
        "outputId": "0129735c-a66d-4ef4-8d5e-7447b54e1524"
      },
      "source": [
        "!sudo pip3 install -r requirements.txt"
      ],
      "execution_count": 4,
      "outputs": [
        {
          "output_type": "stream",
          "text": [
            "Requirement already satisfied: torch>=0.4.0 in /usr/local/lib/python3.6/dist-packages (from -r requirements.txt (line 1)) (1.1.0)\n",
            "Requirement already satisfied: torchvision in /usr/local/lib/python3.6/dist-packages (from -r requirements.txt (line 2)) (0.3.0)\n",
            "Requirement already satisfied: matplotlib in /usr/local/lib/python3.6/dist-packages (from -r requirements.txt (line 3)) (3.0.3)\n",
            "Requirement already satisfied: numpy in /usr/local/lib/python3.6/dist-packages (from -r requirements.txt (line 4)) (1.16.4)\n",
            "Requirement already satisfied: scipy in /usr/local/lib/python3.6/dist-packages (from -r requirements.txt (line 5)) (1.3.0)\n",
            "Requirement already satisfied: pillow in /usr/local/lib/python3.6/dist-packages (from -r requirements.txt (line 6)) (4.3.0)\n",
            "Requirement already satisfied: urllib3 in /usr/local/lib/python3.6/dist-packages (from -r requirements.txt (line 7)) (1.24.3)\n",
            "Requirement already satisfied: scikit-image in /usr/local/lib/python3.6/dist-packages (from -r requirements.txt (line 8)) (0.15.0)\n",
            "Requirement already satisfied: six in /usr/local/lib/python3.6/dist-packages (from torchvision->-r requirements.txt (line 2)) (1.12.0)\n",
            "Requirement already satisfied: python-dateutil>=2.1 in /usr/local/lib/python3.6/dist-packages (from matplotlib->-r requirements.txt (line 3)) (2.5.3)\n",
            "Requirement already satisfied: kiwisolver>=1.0.1 in /usr/local/lib/python3.6/dist-packages (from matplotlib->-r requirements.txt (line 3)) (1.1.0)\n",
            "Requirement already satisfied: cycler>=0.10 in /usr/local/lib/python3.6/dist-packages (from matplotlib->-r requirements.txt (line 3)) (0.10.0)\n",
            "Requirement already satisfied: pyparsing!=2.0.4,!=2.1.2,!=2.1.6,>=2.0.1 in /usr/local/lib/python3.6/dist-packages (from matplotlib->-r requirements.txt (line 3)) (2.4.0)\n",
            "Requirement already satisfied: olefile in /usr/local/lib/python3.6/dist-packages (from pillow->-r requirements.txt (line 6)) (0.46)\n",
            "Requirement already satisfied: networkx>=2.0 in /usr/local/lib/python3.6/dist-packages (from scikit-image->-r requirements.txt (line 8)) (2.3)\n",
            "Requirement already satisfied: imageio>=2.0.1 in /usr/local/lib/python3.6/dist-packages (from scikit-image->-r requirements.txt (line 8)) (2.4.1)\n",
            "Requirement already satisfied: PyWavelets>=0.4.0 in /usr/local/lib/python3.6/dist-packages (from scikit-image->-r requirements.txt (line 8)) (1.0.3)\n",
            "Requirement already satisfied: setuptools in /usr/local/lib/python3.6/dist-packages (from kiwisolver>=1.0.1->matplotlib->-r requirements.txt (line 3)) (41.0.1)\n",
            "Requirement already satisfied: decorator>=4.3.0 in /usr/local/lib/python3.6/dist-packages (from networkx>=2.0->scikit-image->-r requirements.txt (line 8)) (4.4.0)\n"
          ],
          "name": "stdout"
        }
      ]
    },
    {
      "cell_type": "markdown",
      "metadata": {
        "id": "zWL1RmvYqJnG",
        "colab_type": "text"
      },
      "source": [
        "# GENERATEUR"
      ]
    },
    {
      "cell_type": "code",
      "metadata": {
        "id": "8Yy4oOJ7Ey1R",
        "colab_type": "code",
        "outputId": "90709ca0-f1d9-4d41-816e-2b4dce3bc2ee",
        "colab": {
          "base_uri": "https://localhost:8080/",
          "height": 34
        }
      },
      "source": [
        "cd /content/PyTorch-GAN/implementations/cgan/"
      ],
      "execution_count": 5,
      "outputs": [
        {
          "output_type": "stream",
          "text": [
            "/content/PyTorch-GAN/implementations/cgan\n"
          ],
          "name": "stdout"
        }
      ]
    },
    {
      "cell_type": "code",
      "metadata": {
        "id": "Cjovvh2cZZEB",
        "colab_type": "code",
        "colab": {}
      },
      "source": [
        "!python3 cgan_genimg.py --n_epochs 20 --gennumber 98765432101234567890 --genidlabel 8 --sample_interval 300"
      ],
      "execution_count": 0,
      "outputs": []
    },
    {
      "cell_type": "code",
      "metadata": {
        "id": "uTm-0gQCZqkA",
        "colab_type": "code",
        "colab": {
          "base_uri": "https://localhost:8080/",
          "height": 68
        },
        "outputId": "22d372ac-51e7-440b-c607-64ddea29ec25"
      },
      "source": [
        "ls"
      ],
      "execution_count": 38,
      "outputs": [
        {
          "output_type": "stream",
          "text": [
            "\u001b[0m\u001b[01;34m2019-07-24_20-43\u001b[0m/  \u001b[01;34mPyTorch-GAN\u001b[0m/  video1-9-24fps.avi  video.avi\n",
            "\u001b[01;34m2019-07-24_20-56\u001b[0m/  video01.avi   video1-9.avi\n",
            "\u001b[01;34m2019-07-24_22-50\u001b[0m/  video02.avi   video1-9-fps.avi\n"
          ],
          "name": "stdout"
        }
      ]
    },
    {
      "cell_type": "code",
      "metadata": {
        "id": "juCjeTWKEy4d",
        "colab_type": "code",
        "colab": {}
      },
      "source": [
        " !python3 cgan01.py --n_epochs 10"
      ],
      "execution_count": 0,
      "outputs": []
    },
    {
      "cell_type": "code",
      "metadata": {
        "id": "HmLIiM-1W9C8",
        "colab_type": "code",
        "outputId": "1ecfd4b3-93f3-4cb4-ed90-c0bb59ca55d1",
        "colab": {
          "base_uri": "https://localhost:8080/",
          "height": 35
        }
      },
      "source": [
        "cd images/"
      ],
      "execution_count": 0,
      "outputs": [
        {
          "output_type": "stream",
          "text": [
            "/content/PyTorch-GAN/implementations/cgan/images\n"
          ],
          "name": "stdout"
        }
      ]
    },
    {
      "cell_type": "code",
      "metadata": {
        "id": "f7OnHtR9W-Vw",
        "colab_type": "code",
        "outputId": "e01f47a5-473b-48bf-813f-e5be59fe1715",
        "colab": {
          "base_uri": "https://localhost:8080/",
          "height": 35
        }
      },
      "source": [
        "pwd"
      ],
      "execution_count": 0,
      "outputs": [
        {
          "output_type": "execute_result",
          "data": {
            "text/plain": [
              "'/content/PyTorch-GAN/implementations/cgan/images'"
            ]
          },
          "metadata": {
            "tags": []
          },
          "execution_count": 8
        }
      ]
    },
    {
      "cell_type": "code",
      "metadata": {
        "id": "2ruE7AEQXMgg",
        "colab_type": "code",
        "outputId": "8a317c22-8c1c-4f28-be50-64275c818fb7",
        "colab": {
          "base_uri": "https://localhost:8080/",
          "height": 35
        }
      },
      "source": [
        "cd /content/gdrive/My\\ Drive/TFE/images/"
      ],
      "execution_count": 0,
      "outputs": [
        {
          "output_type": "stream",
          "text": [
            "/content/gdrive/My Drive/TFE/images\n"
          ],
          "name": "stdout"
        }
      ]
    },
    {
      "cell_type": "code",
      "metadata": {
        "id": "u4buW44ZXPUx",
        "colab_type": "code",
        "outputId": "0c05f43e-2711-41ad-bbc2-72ed1f0af204",
        "colab": {
          "base_uri": "https://localhost:8080/",
          "height": 54
        }
      },
      "source": [
        "cd gdrive/My\\ Drive"
      ],
      "execution_count": 0,
      "outputs": [
        {
          "output_type": "stream",
          "text": [
            "[Errno 2] No such file or directory: 'gdrive/My Drive'\n",
            "/content/PyTorch-GAN/implementations/cgan/images\n"
          ],
          "name": "stdout"
        }
      ]
    },
    {
      "cell_type": "code",
      "metadata": {
        "id": "Umu1iVD-XWeu",
        "colab_type": "code",
        "outputId": "dda62244-0811-41c6-a003-8c356ca4fef2",
        "colab": {
          "base_uri": "https://localhost:8080/",
          "height": 127
        }
      },
      "source": [
        "!ls -ltr"
      ],
      "execution_count": 0,
      "outputs": [
        {
          "output_type": "stream",
          "text": [
            "total 914\n",
            "-rw------- 1 root root 270158 Jul 22 23:00 0.png\n",
            "-rw------- 1 root root 183547 Jul 22 23:00 400.png\n",
            "-rw------- 1 root root 168228 Jul 22 23:00 800.png\n",
            "-rw------- 1 root root 165332 Jul 22 23:00 1200.png\n",
            "-rw------- 1 root root 147385 Jul 22 23:00 1600.png\n"
          ],
          "name": "stdout"
        }
      ]
    },
    {
      "cell_type": "code",
      "metadata": {
        "id": "ccnzbuU7c_jf",
        "colab_type": "code",
        "outputId": "f23e8f0c-426b-4522-dc39-cef9df61f176",
        "colab": {
          "base_uri": "https://localhost:8080/",
          "height": 35
        }
      },
      "source": [
        " import time\n",
        " date_string = time.strftime(\"%Y-%m-%d\")\n",
        " print(date_string)"
      ],
      "execution_count": 0,
      "outputs": [
        {
          "output_type": "stream",
          "text": [
            "2019-07-22\n"
          ],
          "name": "stdout"
        }
      ]
    },
    {
      "cell_type": "code",
      "metadata": {
        "id": "eGcia2B35-j0",
        "colab_type": "code",
        "outputId": "b5ee7481-58b2-4f71-ba7f-5af26f6879b5",
        "colab": {
          "base_uri": "https://localhost:8080/",
          "height": 34
        }
      },
      "source": [
        "cd /content/\n"
      ],
      "execution_count": 4,
      "outputs": [
        {
          "output_type": "stream",
          "text": [
            "/content\n"
          ],
          "name": "stdout"
        }
      ]
    },
    {
      "cell_type": "code",
      "metadata": {
        "id": "fBb_rwPD5IwB",
        "colab_type": "code",
        "colab": {}
      },
      "source": [
        "!find . -mtime 0"
      ],
      "execution_count": 0,
      "outputs": []
    },
    {
      "cell_type": "code",
      "metadata": {
        "id": "XDbEdfb_7sG5",
        "colab_type": "code",
        "outputId": "fd1a37a6-a6c2-45e9-eae4-dc522c39a5f8",
        "colab": {
          "base_uri": "https://localhost:8080/",
          "height": 35
        }
      },
      "source": [
        "cd /content/PyTorch-GAN/data/mnist/MNIST/processed/"
      ],
      "execution_count": 0,
      "outputs": [
        {
          "output_type": "stream",
          "text": [
            "/content/PyTorch-GAN/data/mnist/MNIST/processed\n"
          ],
          "name": "stdout"
        }
      ]
    },
    {
      "cell_type": "code",
      "metadata": {
        "id": "GbgzogDQg2D3",
        "colab_type": "code",
        "colab": {
          "base_uri": "https://localhost:8080/",
          "height": 34
        },
        "outputId": "77f56ec3-71ed-4fa3-aad1-e8388345694f"
      },
      "source": [
        "cd .."
      ],
      "execution_count": 31,
      "outputs": [
        {
          "output_type": "stream",
          "text": [
            "/content/gdrive/My Drive/TFE/images\n"
          ],
          "name": "stdout"
        }
      ]
    },
    {
      "cell_type": "code",
      "metadata": {
        "id": "oeCu89nt7vN0",
        "colab_type": "code",
        "outputId": "3a17c7f2-0531-4b99-afc7-c4440159d3a1",
        "colab": {
          "base_uri": "https://localhost:8080/",
          "height": 102
        }
      },
      "source": [
        "!ls -al"
      ],
      "execution_count": 42,
      "outputs": [
        {
          "output_type": "stream",
          "text": [
            "total 4131\n",
            "drwx------ 3 root root    4096 Jul 25 09:37 2019-07-24_20-43\n",
            "drwx------ 2 root root    4096 Jul 24 20:56 2019-07-24_20-56\n",
            "drwx------ 2 root root    4096 Jul 24 22:50 2019-07-24_22-50\n",
            "-rw------- 1 root root 4216966 Jul 25 09:47 video.avi\n"
          ],
          "name": "stdout"
        }
      ]
    },
    {
      "cell_type": "markdown",
      "metadata": {
        "id": "mCvqQi3olCPI",
        "colab_type": "text"
      },
      "source": [
        "# ***Création de vidéo de l'évolution du Learning***"
      ]
    },
    {
      "cell_type": "code",
      "metadata": {
        "id": "0BwVAT9dZrzg",
        "colab_type": "code",
        "colab": {}
      },
      "source": [
        "import cv2\n",
        "import os\n",
        "import os.path\n",
        "\n",
        "path = \"/content/gdrive/My\\ Drive/TFE/video\"\n",
        "os.path.dirname(path)\n",
        "\n",
        "image_folder = '/content/gdrive/My Drive/TFE/images/2019-07-25_11-33/0-9'\n",
        "video_name = '/content/gdrive/My Drive/TFE/video/videogen_0_9.avi'\n",
        "\n",
        "image_folder1 = '/content/gdrive/My Drive/TFE/images/2019-07-25_11-33/gen_8'\n",
        "video_name1 = '/content/gdrive/My Drive/TFE/video/video_gen_8.avi'\n",
        "\n",
        "image_folder2 = '/content/gdrive/My Drive/TFE/images/2019-07-25_11-33/gen_987'\n",
        "video_name2 = '/content/gdrive/My Drive/TFE/video/video_gen_987.avi'\n",
        "\n",
        "images = [img for img in os.listdir(image_folder) if img.endswith(\".png\")]\n",
        "frame = cv2.imread(os.path.join(image_folder, images[0]))\n",
        "height, width, layers = frame.shape\n",
        "\n",
        "video = cv2.VideoWriter(video_name, 0, 8, (width,height))\n",
        "\n",
        "for image in images:\n",
        "    video.write(cv2.imread(os.path.join(image_folder, image)))\n",
        "\n",
        "cv2.destroyAllWindows()\n",
        "video.release()\n",
        "\n",
        "images = [img for img in os.listdir(image_folder1) if img.endswith(\".png\")]\n",
        "frame = cv2.imread(os.path.join(image_folder1, images[0]))\n",
        "height, width, layers = frame.shape\n",
        "\n",
        "video = cv2.VideoWriter(video_name1, 0, 8, (width,height))\n",
        "\n",
        "for image in images:\n",
        "    video.write(cv2.imread(os.path.join(image_folder1, image)))\n",
        "\n",
        "cv2.destroyAllWindows()\n",
        "video.release()\n",
        "\n",
        "images = [img for img in os.listdir(image_folder2) if img.endswith(\".png\")]\n",
        "frame = cv2.imread(os.path.join(image_folder2, images[0]))\n",
        "height, width, layers = frame.shape\n",
        "\n",
        "video = cv2.VideoWriter(video_name2, 0, 8, (width,height))\n",
        "\n",
        "for image in images:\n",
        "    video.write(cv2.imread(os.path.join(image_folder2, image)))\n",
        "\n",
        "cv2.destroyAllWindows()\n",
        "video.release()"
      ],
      "execution_count": 0,
      "outputs": []
    },
    {
      "cell_type": "code",
      "metadata": {
        "id": "dCJTET7Va3h1",
        "colab_type": "code",
        "colab": {
          "base_uri": "https://localhost:8080/",
          "height": 34
        },
        "outputId": "ead30adf-9c06-432d-93ab-070af1d74d4f"
      },
      "source": [
        "pwd"
      ],
      "execution_count": 38,
      "outputs": [
        {
          "output_type": "execute_result",
          "data": {
            "text/plain": [
              "'/content/gdrive/My Drive/TFE/images'"
            ]
          },
          "metadata": {
            "tags": []
          },
          "execution_count": 38
        }
      ]
    },
    {
      "cell_type": "code",
      "metadata": {
        "id": "_BNk25kla-uM",
        "colab_type": "code",
        "colab": {
          "base_uri": "https://localhost:8080/",
          "height": 34
        },
        "outputId": "92168ff0-696a-4102-e5e4-0f77cfc7b9d4"
      },
      "source": [
        "cd /content/gdrive/My Drive/TFE/images/"
      ],
      "execution_count": 12,
      "outputs": [
        {
          "output_type": "stream",
          "text": [
            "/content/gdrive/My Drive/TFE/images\n"
          ],
          "name": "stdout"
        }
      ]
    },
    {
      "cell_type": "code",
      "metadata": {
        "id": "dAYFb1tPcRxh",
        "colab_type": "code",
        "colab": {
          "base_uri": "https://localhost:8080/",
          "height": 136
        },
        "outputId": "b2e64ca8-e921-4567-b174-f491d3ca72bf"
      },
      "source": [
        "ls -ltr"
      ],
      "execution_count": 39,
      "outputs": [
        {
          "output_type": "stream",
          "text": [
            "total 24\n",
            "drwx------ 2 root root 4096 Jul 24 20:43 \u001b[0m\u001b[01;34m2019-07-24_20-43\u001b[0m/\n",
            "drwx------ 2 root root 4096 Jul 24 20:56 \u001b[01;34m2019-07-24_20-56\u001b[0m/\n",
            "drwx------ 2 root root 4096 Jul 24 22:50 \u001b[01;34m2019-07-24_22-50\u001b[0m/\n",
            "drwx------ 2 root root 4096 Jul 25 11:18 \u001b[01;34mPyTorch-GAN\u001b[0m/\n",
            "drwx------ 2 root root 4096 Jul 25 11:32 \u001b[01;34m2019-07-25_11-27\u001b[0m/\n",
            "drwx------ 5 root root 4096 Jul 25 11:41 \u001b[01;34m2019-07-25_11-33\u001b[0m/\n"
          ],
          "name": "stdout"
        }
      ]
    }
  ]
}